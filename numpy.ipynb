{
 "cells": [
  {
   "cell_type": "markdown",
   "id": "2ecb99ab",
   "metadata": {},
   "source": [
    "## Numpy Learning"
   ]
  },
  {
   "cell_type": "code",
   "execution_count": 10,
   "id": "8e13b0f9",
   "metadata": {},
   "outputs": [],
   "source": [
    "import numpy as np\n"
   ]
  },
  {
   "cell_type": "markdown",
   "id": "b1040493",
   "metadata": {},
   "source": [
    "*Numpy Array Creation* "
   ]
  },
  {
   "cell_type": "markdown",
   "id": "9b12f53a",
   "metadata": {},
   "source": [
    "\n",
    "Function | Description\n",
    "np.array() | From list or tuple\n",
    "np.zeros() | All zeros\n",
    "np.ones() | All ones\n",
    "np.full() | All a specific value\n",
    "np.eye() | Identity matrix\n",
    "np.arange() | Range with step (like range())\n",
    "np.linspace() | Evenly spaced values between limits\n",
    "np.random.rand() | Random floats (0–1)\n",
    "np.random.randint() | Random integers\n",
    "np.empty() | Uninitialized array"
   ]
  },
  {
   "cell_type": "code",
   "execution_count": null,
   "id": "9a7e544a",
   "metadata": {},
   "outputs": [
    {
     "data": {
      "text/plain": [
       "array([[1, 2],\n",
       "       [3, 4]])"
      ]
     },
     "execution_count": 49,
     "metadata": {},
     "output_type": "execute_result"
    }
   ],
   "source": [
    "#You can create an array directly from lists or tuples.\n",
    "arr1 = np.array([1, 2, 3])              # 1D array\n",
    "arr2 = np.array([[1, 2], [3, 4]])            # 2D array\n",
    "arr2\n",
    "\n",
    "# np.asarray() – convert list/tuple to array (faster than np.array)"
   ]
  },
  {
   "cell_type": "code",
   "execution_count": 15,
   "id": "28df9934",
   "metadata": {},
   "outputs": [
    {
     "data": {
      "text/plain": [
       "array([[0., 0., 0.],\n",
       "       [0., 0., 0.]])"
      ]
     },
     "execution_count": 15,
     "metadata": {},
     "output_type": "execute_result"
    }
   ],
   "source": [
    "#np.zeros() → Array of all zeros\n",
    "np.zeros((2, 3))  # shape: 2 rows, 3 columns\n"
   ]
  },
  {
   "cell_type": "code",
   "execution_count": 16,
   "id": "753248dd",
   "metadata": {},
   "outputs": [
    {
     "data": {
      "text/plain": [
       "array([[1., 1.],\n",
       "       [1., 1.],\n",
       "       [1., 1.]])"
      ]
     },
     "execution_count": 16,
     "metadata": {},
     "output_type": "execute_result"
    }
   ],
   "source": [
    "#np.ones() → Array of all ones\n",
    "np.ones((3, 2))\n"
   ]
  },
  {
   "cell_type": "code",
   "execution_count": 18,
   "id": "7187e1fe",
   "metadata": {},
   "outputs": [
    {
     "data": {
      "text/plain": [
       "array([[99, 99],\n",
       "       [99, 99]])"
      ]
     },
     "execution_count": 18,
     "metadata": {},
     "output_type": "execute_result"
    }
   ],
   "source": [
    "#np.full() → Array filled with a specific value\n",
    "np.full((2, 2), 99)  # 2x2 array filled with 7\n"
   ]
  },
  {
   "cell_type": "code",
   "execution_count": 36,
   "id": "03564a98",
   "metadata": {},
   "outputs": [
    {
     "data": {
      "text/plain": [
       "array([[1., 0.],\n",
       "       [0., 1.]])"
      ]
     },
     "execution_count": 36,
     "metadata": {},
     "output_type": "execute_result"
    }
   ],
   "source": [
    "#np.eye() → Identity matrix\n",
    "np.eye(2)  # 3x3 identity matrix\n"
   ]
  },
  {
   "cell_type": "code",
   "execution_count": 22,
   "id": "892bcd16",
   "metadata": {},
   "outputs": [
    {
     "data": {
      "text/plain": [
       "array([0, 4, 8])"
      ]
     },
     "execution_count": 22,
     "metadata": {},
     "output_type": "execute_result"
    }
   ],
   "source": [
    "#np.arange(start, stop, step)\n",
    "np.arange(0, 10, 4)  # [0 2 4 6 8]\n"
   ]
  },
  {
   "cell_type": "code",
   "execution_count": 23,
   "id": "8773c32d",
   "metadata": {},
   "outputs": [
    {
     "data": {
      "text/plain": [
       "array([0.  , 0.25, 0.5 , 0.75, 1.  ])"
      ]
     },
     "execution_count": 23,
     "metadata": {},
     "output_type": "execute_result"
    }
   ],
   "source": [
    "#np.linspace(start, stop, num)\n",
    "#Returns evenly spaced numbers including endpoints\n",
    "\n",
    "np.linspace(0, 1, 5)  # [0.  0.25  0.5  0.75  1.]\n",
    "\n"
   ]
  },
  {
   "cell_type": "code",
   "execution_count": 24,
   "id": "ee894d6b",
   "metadata": {},
   "outputs": [
    {
     "data": {
      "text/plain": [
       "array([[0.14725283, 0.74702023, 0.30291673],\n",
       "       [0.23930086, 0.76504576, 0.34889979]])"
      ]
     },
     "execution_count": 24,
     "metadata": {},
     "output_type": "execute_result"
    }
   ],
   "source": [
    "#np.random.rand() → Uniform between 0 and 1\n",
    "np.random.rand(2, 3)  # 2x3 array\n"
   ]
  },
  {
   "cell_type": "code",
   "execution_count": 25,
   "id": "6b56bdb5",
   "metadata": {},
   "outputs": [
    {
     "data": {
      "text/plain": [
       "array([[6, 9],\n",
       "       [5, 2]], dtype=int32)"
      ]
     },
     "execution_count": 25,
     "metadata": {},
     "output_type": "execute_result"
    }
   ],
   "source": [
    "#np.random.randint() → Random integers in a range\n",
    "np.random.randint(1, 10, (2, 2))  # 2x2 integers from 1 to 9\n"
   ]
  },
  {
   "cell_type": "code",
   "execution_count": 28,
   "id": "526454e4",
   "metadata": {},
   "outputs": [
    {
     "data": {
      "text/plain": [
       "array([[ 4.95311619e-01, -3.68265233e-01, -4.81168653e-01],\n",
       "       [ 6.80336436e-01, -2.94337896e-01,  1.88198978e+00],\n",
       "       [ 7.99238359e-01, -4.76739248e-04, -8.25208216e-01]])"
      ]
     },
     "execution_count": 28,
     "metadata": {},
     "output_type": "execute_result"
    }
   ],
   "source": [
    "#np.random.randn() → Standard normal distribution\n",
    "np.random.randn(3, 3)\n",
    "\n"
   ]
  },
  {
   "cell_type": "code",
   "execution_count": 30,
   "id": "3bd7b722",
   "metadata": {},
   "outputs": [
    {
     "data": {
      "text/plain": [
       "array([[0.14725283, 0.74702023, 0.30291673],\n",
       "       [0.23930086, 0.76504576, 0.34889979]])"
      ]
     },
     "execution_count": 30,
     "metadata": {},
     "output_type": "execute_result"
    }
   ],
   "source": [
    "#5. Empty or Uninitialized Arrays\n",
    "#(Not often used unless you’re filling them later)\n",
    "np.empty((2, 3))  # Values are garbage until set\n"
   ]
  },
  {
   "cell_type": "code",
   "execution_count": 35,
   "id": "ad101fd3",
   "metadata": {},
   "outputs": [
    {
     "data": {
      "text/plain": [
       "array([[1., 0.],\n",
       "       [0., 1.]])"
      ]
     },
     "execution_count": 35,
     "metadata": {},
     "output_type": "execute_result"
    }
   ],
   "source": [
    "np.identity(2)"
   ]
  },
  {
   "cell_type": "code",
   "execution_count": 40,
   "id": "2ec85431",
   "metadata": {},
   "outputs": [
    {
     "data": {
      "text/plain": [
       "array([[1, 2, 3],\n",
       "       [4, 5, 6]])"
      ]
     },
     "execution_count": 40,
     "metadata": {},
     "output_type": "execute_result"
    }
   ],
   "source": [
    "arr=np.array([[1,2,3],[4,5,6]])\n",
    "arr"
   ]
  },
  {
   "cell_type": "code",
   "execution_count": null,
   "id": "73ba4db7",
   "metadata": {},
   "outputs": [
    {
     "data": {
      "text/plain": [
       "array([[1, 2, 3],\n",
       "       [4, 5, 6]])"
      ]
     },
     "execution_count": 46,
     "metadata": {},
     "output_type": "execute_result"
    }
   ],
   "source": [
    "#np.copy() – deep copy of an array\n",
    "arr2=np.copy(arr)\n",
    "arr2"
   ]
  },
  {
   "cell_type": "markdown",
   "id": "c45c9d0f",
   "metadata": {},
   "source": [
    "*N-D arrays properties and attributes*"
   ]
  },
  {
   "cell_type": "markdown",
   "id": "95a60885",
   "metadata": {},
   "source": [
    "* arr = np.array([[1, 2, 3],[4, 5, 6]])\n",
    "* Dimensions (ndim) arr.ndim\n",
    "#Output: 2 → it's a 2D array \n",
    "* Shape (rows, cols) arr.shape\n",
    "#Output: (2, 3) → 2 rows, 3 columns\n",
    "* Total Elements arr.size\n",
    "#Output: 6 → total number of values\n",
    "* Data Type of Each Element arr.dtype\n",
    "#Output: dtype('int64') → 64-bit integers\n",
    "*  Size of One Item (in bytes) arr.itemsize\n",
    "#Output: 8 → each int64 takes 8 bytes\n",
    "* Transpose (Flip rows and columns) arr.T\n",
    "#Output:\n",
    "#array([[1, 4],\n",
    "#[2, 5],\n",
    "#[3, 6]])\n",
    "\n",
    "\n",
    "\n",
    "\n"
   ]
  },
  {
   "cell_type": "markdown",
   "id": "257be7d4",
   "metadata": {},
   "source": [
    "*N-D arrays Methods*"
   ]
  },
  {
   "cell_type": "markdown",
   "id": "741bb8dc",
   "metadata": {},
   "source": [
    "*  \"SHAPE AND STRUCTURE\"\t            \n",
    "* arr.reshape()\tReshapes array without changing data\n",
    "* arr.flatten()\tConverts to 1D array\n",
    "* arr.transpose() or arr.T\tTransposes array (rows <-> cols)\n",
    "* arr.ravel()\tFlattens like flatten() but returns view\n",
    "* \"MATH OPERATION\"\n",
    "* arr.sum()\tSum of all elements\n",
    "* arr.mean()\tMean value\n",
    "* arr.std()\tStandard deviation\n",
    "* arr.min()\tMinimum value  axis=0 for column wise min and max,axis=1 for same eg arr.min(axis=0)\n",
    "* arr.max()\tMaximum value eg arr.max(axis=1) fro rowise max\n",
    "* np.median(arr) for median of arr,can use axis=0\n",
    "* np.sin(arr) for sin of values\n",
    "* np.exp(arr)  mean e^values each\n",
    "* np.sqrt(arr) each value\n",
    "* np.square(arr) each value\n",
    "* arr.argmin()\tIndex of minimum value\n",
    "* arr.argmax()\tIndex of maximum value\n",
    "* \"SORTING AND SEARCHING\"\n",
    "* arr.sort()\tSorts array (in-place or copy)\n",
    "* np.sort(arr)\tReturns sorted array\n",
    "* arr.argsort()\tReturns indices to sort the array\n",
    "* np.where()\tReturns indices where condition is true\n",
    "* \"COPYING AND MODIFYING\"\n",
    "* arr.copy()\tReturns a copy of the array\n",
    "* arr.astype()\tConverts array to different data type\n",
    "* arr.fill(value)\tFills array with single value\n",
    "* \"LOGICAL AND BOOLEAN\"\n",
    "* arr.any()\tTrue if any element is True\n",
    " * arr.all()\tTrue if all elements are True\n"
   ]
  },
  {
   "cell_type": "code",
   "execution_count": 63,
   "id": "02ea9fa3",
   "metadata": {},
   "outputs": [
    {
     "data": {
      "text/plain": [
       "array([False, False,  True])"
      ]
     },
     "execution_count": 63,
     "metadata": {},
     "output_type": "execute_result"
    }
   ],
   "source": [
    "#Array Comparison\n",
    "a = np.array([1, 2, 3])\n",
    "b = np.array([1, 2, 4])\n",
    "a == b         # [True, True, False]\n",
    "a != b         # [False, False, True]\n"
   ]
  },
  {
   "cell_type": "code",
   "execution_count": 89,
   "id": "f77d3ab4",
   "metadata": {},
   "outputs": [
    {
     "data": {
      "text/plain": [
       "array([3, 7])"
      ]
     },
     "execution_count": 89,
     "metadata": {},
     "output_type": "execute_result"
    }
   ],
   "source": [
    "#Aggregation by Axis\n",
    "arr = np.array([[1, 2], [3, 4]])\n",
    "arr.sum(axis=0)   # [4, 6] → column-wise sum\n",
    "arr.sum(axis=1) \n",
    "# [3, 7] → row-wise sum\n"
   ]
  },
  {
   "cell_type": "markdown",
   "id": "7764653e",
   "metadata": {},
   "source": [
    "*indexing slicing and iteration*"
   ]
  },
  {
   "cell_type": "code",
   "execution_count": 104,
   "id": "757d0049",
   "metadata": {},
   "outputs": [
    {
     "name": "stdout",
     "output_type": "stream",
     "text": [
      "10\n",
      "50\n",
      "2\n",
      "6\n"
     ]
    }
   ],
   "source": [
    "# Indexing (Just like lists, but more powerful!)\n",
    "#For 1D Arrays:\n",
    "arr = np.array([10, 20, 30, 40, 50])\n",
    "print(arr[0])     # 10\n",
    "print(arr[-1])    # 50\n",
    "#2D arrays\n",
    "arr = np.array([[1, 2, 3],\n",
    "                [4, 5, 6]])\n",
    "\n",
    "print(arr[0, 1])   # Row 0, Col 1 → 2\n",
    "print(arr[1][2])   # Row 1, Col 2 → 6\n"
   ]
  },
  {
   "cell_type": "code",
   "execution_count": 105,
   "id": "8e49a967",
   "metadata": {},
   "outputs": [
    {
     "name": "stdout",
     "output_type": "stream",
     "text": [
      "[20 30 40]\n",
      "[50 40 30 20 10]\n",
      "[[2 3]\n",
      " [5 6]]\n",
      "[1 4 7]\n"
     ]
    }
   ],
   "source": [
    "# Slicing\n",
    "#1D Slicing\n",
    "arr = np.array([10, 20, 30, 40, 50])\n",
    "print(arr[1:4])    # [20 30 40]\n",
    "print(arr[::-1])   # [50 40 30 20 10]\n",
    "#2D Slicing\n",
    "arr = np.array([[1, 2, 3],\n",
    "                [4, 5, 6],\n",
    "                [7, 8, 9]])\n",
    "\n",
    "print(arr[0:2, 1:])   # Rows 0-1, Cols 1-end → [[2 3], [5 6]]\n",
    "print(arr[:, 0])      # All rows, column 0 → [1 4 7]\n",
    "#: → means entire range (like all),Negative indices work (-1 is last row/column)\n"
   ]
  },
  {
   "cell_type": "code",
   "execution_count": 110,
   "id": "40ddbb07",
   "metadata": {},
   "outputs": [
    {
     "name": "stdout",
     "output_type": "stream",
     "text": [
      "Row: [1 2]\n",
      "Row: [3 4]\n",
      "Element: 1\n",
      "Element: 2\n",
      "Element: 3\n",
      "Element: 4\n",
      "Index (0, 0) has value 1\n",
      "Index (0, 1) has value 2\n",
      "Index (1, 0) has value 3\n",
      "Index (1, 1) has value 4\n"
     ]
    }
   ],
   "source": [
    " # Iteration\n",
    " # 2D Iteration:\n",
    "arr = np.array([[1, 2], [3, 4]])\n",
    "for row in arr:\n",
    "    print(\"Row:\", row)\n",
    "\n",
    "# Iterating over each element\n",
    "for x in np.nditer(arr):\n",
    "    print(\"Element:\", x)\n",
    "    \n",
    "    #Bonus: Loop with index\n",
    "for index, val in np.ndenumerate(arr):\n",
    "  print(f\"Index {index} has value {val}\")\n",
    "\n"
   ]
  },
  {
   "cell_type": "code",
   "execution_count": null,
   "id": "bfb1618d",
   "metadata": {},
   "outputs": [],
   "source": [
    "np.vstack() – vertical stack (row-wise)\n",
    "import numpy as np\n",
    "\n",
    "a = np.array([1, 2, 3])\n",
    "b = np.array([4, 5, 6])\n",
    "\n",
    "v = np.vstack((a, b))\n",
    "\n",
    "print(v)\n",
    "#Output:\n",
    "#[[1 2 3]\n",
    "#[4 5 6]]\n",
    "#Shape: (2, 3)\n",
    "a = np.array([[1, 2, 3]])\n",
    "b = np.array([[4, 5, 6]])\n",
    "\n",
    "np.vstack((a, b))  # Shape: (2, 3)\n",
    "\n",
    "np.hstack() – horizontal stack (column-wise)\n",
    "#All arrays must have the same number of rows (axis=0 must match).\n",
    "a = np.array([[1], [2], [3]])\n",
    "b = np.array([[4], [5], [6]])\n",
    "\n",
    "h = np.hstack((a, b))\n",
    "\n",
    "print(h)\n",
    "#Output:\n",
    "#[[1 4]\n",
    "#[2 5]\n",
    "#[3 6]]\n",
    "#Shape: (3, 2)\n",
    "\n",
    "vstack()\tVertical (adds rows)\tNumber of columns (axis=1)\n",
    "hstack()\tHorizontal (adds columns)\tNumber of rows (axis=0)\n",
    "\n",
    "\n"
   ]
  },
  {
   "cell_type": "markdown",
   "id": "5983b267",
   "metadata": {},
   "source": [
    "*Splitting*"
   ]
  },
  {
   "cell_type": "markdown",
   "id": "8a82e172",
   "metadata": {},
   "source": [
    "np.vsplit() — Vertical Split (row-wise)\n",
    "Rule:\n",
    "#You must split along rows.\n",
    "\n",
    "The #number of rows must be divisible by the number of splits.\n",
    "import numpy as np\n",
    "\n",
    "a = np.array([[1, 2, 3],\n",
    "              [4, 5, 6],\n",
    "              [7, 8, 9],\n",
    "              [10, 11, 12]])\n",
    "\n",
    "#Split into 2 vertical parts (2 sub-arrays, each with 2 rows)\n",
    "v = np.vsplit(a, 2)\n",
    "\n",
    "for part in v:\n",
    "    print(part)\n",
    "#If the number of rows (4 in this case) wasn't divisible by 2, it would raise an error.\n",
    "\n",
    "np.hsplit() — Horizontal Split (column-wise)\n",
    "#You must split along columns.\n",
    "\n",
    "#The number of columns must be divisible by the number of splits.\n",
    "a = np.array([[1, 2, 3, 4],\n",
    "              [5, 6, 7, 8]])\n",
    "\n",
    "#Split into 2 horizontal parts (2 columns in each split)\n",
    "h = np.hsplit(a, 2)\n",
    "\n",
    "for part in h:\n",
    "    print(part)\n",
    "    \n",
    "    Function\t    Splits Along\t    Must Divide Evenly\n",
    "    vsplit()\t    Rows (axis=0)\t    Number of rows\n",
    "    hsplit()\t    Columns (axis=1)\tNumber of columns\n",
    "    \n",
    " You can also split at specific indices using:\n",
    "\n",
    " \n",
    "np.vsplit(a, [1, 3])  # custom row split\n",
    "np.hsplit(a, [1, 3])  # custom column split\n",
    "\n"
   ]
  },
  {
   "cell_type": "code",
   "execution_count": null,
   "id": "4d3df0b3",
   "metadata": {},
   "outputs": [
    {
     "data": {
      "text/plain": [
       "array([[ 0,  1,  2,  3],\n",
       "       [ 8,  9, 10, 11],\n",
       "       [16, 17, 18, 19]])"
      ]
     },
     "execution_count": 138,
     "metadata": {},
     "output_type": "execute_result"
    }
   ],
   "source": [
    "#*Fancy Indexing*\n",
    "arr=np.arange(24).reshape(6,4)\n",
    "arr[[0,2,4]]"
   ]
  },
  {
   "cell_type": "code",
   "execution_count": 150,
   "id": "5be69202",
   "metadata": {},
   "outputs": [
    {
     "data": {
      "text/plain": [
       "array([[ 0,  1,  2,  3],\n",
       "       [ 4,  5,  6,  7],\n",
       "       [ 8,  9, 10, 11],\n",
       "       [ 0, 13,  0, 15],\n",
       "       [ 0, 17,  0, 19],\n",
       "       [ 0, 21,  0, 23]])"
      ]
     },
     "execution_count": 150,
     "metadata": {},
     "output_type": "execute_result"
    }
   ],
   "source": [
    "#INDEXING WITH BOOLEAN ARRAYS\n",
    "arr[arr>10]\n",
    "arr[(arr>10) & (arr%2==0)]\n",
    "arr[(arr>10) & (arr%2==0)]=0\n",
    "arr\n",
    " "
   ]
  },
  {
   "cell_type": "markdown",
   "id": "8be7ab3a",
   "metadata": {},
   "source": [
    "*Stacking in NumPy*  "
   ]
  },
  {
   "cell_type": "markdown",
   "id": "f5bfbdc0",
   "metadata": {},
   "source": [
    "*Broadcasting*  \n",
    "* Broadcasting lets NumPy perform arithmetic operations on arrays of different shapes without writing loops\n",
    "* It's a shortcut that \"stretches\" smaller arrays to match larger ones — behind the scenes.\n",
    " * it is more intutive , no need to learn the rules\n",
    " "
   ]
  },
  {
   "cell_type": "code",
   "execution_count": 171,
   "id": "0d53cb9c",
   "metadata": {},
   "outputs": [
    {
     "data": {
      "text/plain": [
       "array([[98.11116484,  6.93425689, 89.16404853, 58.11324844, 74.50548922],\n",
       "       [63.38820971, 58.60237705,  3.02347407, 21.79263119, 54.92380294]])"
      ]
     },
     "execution_count": 171,
     "metadata": {},
     "output_type": "execute_result"
    }
   ],
   "source": [
    "np.random.uniform(1,100,10).reshape(2,5)"
   ]
  },
  {
   "cell_type": "code",
   "execution_count": 175,
   "id": "5aa7b37c",
   "metadata": {},
   "outputs": [
    {
     "data": {
      "text/plain": [
       "array([4, 1, 5, 5, 6], dtype=int32)"
      ]
     },
     "execution_count": 175,
     "metadata": {},
     "output_type": "execute_result"
    }
   ],
   "source": [
    "np.random.randint(1,10,5)"
   ]
  },
  {
   "cell_type": "code",
   "execution_count": null,
   "id": "e0269a9e",
   "metadata": {},
   "outputs": [],
   "source": []
  }
 ],
 "metadata": {
  "kernelspec": {
   "display_name": "venv",
   "language": "python",
   "name": "python3"
  },
  "language_info": {
   "codemirror_mode": {
    "name": "ipython",
    "version": 3
   },
   "file_extension": ".py",
   "mimetype": "text/x-python",
   "name": "python",
   "nbconvert_exporter": "python",
   "pygments_lexer": "ipython3",
   "version": "3.13.0"
  }
 },
 "nbformat": 4,
 "nbformat_minor": 5
}
